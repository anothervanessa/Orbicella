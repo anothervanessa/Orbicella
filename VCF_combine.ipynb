{
 "cells": [
  {
   "cell_type": "code",
   "execution_count": null,
   "id": "3df9c4c4",
   "metadata": {},
   "outputs": [],
   "source": [
    "vcf_open_file = open('')\n",
    "from csv import reader\n",
    "google_read = reader(google_open_file)\n",
    "vcf_data = list(vcf_read)\n"
   ]
  }
 ],
 "metadata": {
  "kernelspec": {
   "display_name": "Python 3 (ipykernel)",
   "language": "python",
   "name": "python3"
  },
  "language_info": {
   "codemirror_mode": {
    "name": "ipython",
    "version": 3
   },
   "file_extension": ".py",
   "mimetype": "text/x-python",
   "name": "python",
   "nbconvert_exporter": "python",
   "pygments_lexer": "ipython3",
   "version": "3.9.12"
  }
 },
 "nbformat": 4,
 "nbformat_minor": 5
}
